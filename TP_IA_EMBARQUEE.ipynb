{
  "cells": [
    {
      "cell_type": "markdown",
      "metadata": {
        "id": "ZLQS0KLMycmb"
      },
      "source": [
        "## **PRACTICAL SESSION 1** — Deep Learning for predictive maintenance"
      ]
    },
    {
      "cell_type": "markdown",
      "metadata": {
        "id": "3mjNAfgj4K1_"
      },
      "source": [
        "The dataset used is the **AI4I 2020** Predictive Maintenance Dataset, which contains 10,000 instances of industrial sensor data. Each instance represents the operating condition of a machine and is associated with a label indicating whether a failure has occurred and, if so, what type of failure it is.\n",
        "\n",
        "The 5 possible labels are:\n",
        "\n",
        "\n",
        "\n",
        "*   **TWF**: Tool Wear Failure\n",
        "*   **HDF**: Heat Dissipation Failure\n",
        "*   **PWF**: Power Failure\n",
        "*   **OSF**: Overstrain Failure\n",
        "*   **RNF**: Random Failure\n",
        "\n",
        "\n",
        "The data is available on eCAMPUS as CSV file called: \"ai4i2020.csv\"\n",
        "\n"
      ]
    },
    {
      "cell_type": "markdown",
      "metadata": {
        "id": "4_LBMVsgRI9W"
      },
      "source": [
        "## **PRACTICAL SESSION Goal** — Ceate a deep leanring model allowing to realize a predictive maintenance mission"
      ]
    },
    {
      "cell_type": "markdown",
      "metadata": {
        "id": "wt7L0p4MbIIw"
      },
      "source": [
        "## **1 - Analysis of the dataset**\n",
        "\n"
      ]
    },
    {
      "cell_type": "markdown",
      "metadata": {
        "id": "0JFIZ6mtRapt"
      },
      "source": [
        "All libraries used ***SHOULD BE PLACED*** in the code cell below"
      ]
    },
    {
      "cell_type": "code",
      "execution_count": 4,
      "metadata": {},
      "outputs": [
        {
          "name": "stdout",
          "output_type": "stream",
          "text": [
            "Requirement already satisfied: pandas in c:\\users\\maure\\onedrive\\bureau\\ismin\\ia_manu_embarq\\tp_ia_embarquee\\myenv\\lib\\site-packages (2.2.3)\n",
            "Requirement already satisfied: python-dateutil>=2.8.2 in c:\\users\\maure\\onedrive\\bureau\\ismin\\ia_manu_embarq\\tp_ia_embarquee\\myenv\\lib\\site-packages (from pandas) (2.9.0.post0)\n",
            "Requirement already satisfied: tzdata>=2022.7 in c:\\users\\maure\\onedrive\\bureau\\ismin\\ia_manu_embarq\\tp_ia_embarquee\\myenv\\lib\\site-packages (from pandas) (2025.1)\n",
            "Requirement already satisfied: pytz>=2020.1 in c:\\users\\maure\\onedrive\\bureau\\ismin\\ia_manu_embarq\\tp_ia_embarquee\\myenv\\lib\\site-packages (from pandas) (2025.1)\n",
            "Requirement already satisfied: numpy>=1.22.4 in c:\\users\\maure\\onedrive\\bureau\\ismin\\ia_manu_embarq\\tp_ia_embarquee\\myenv\\lib\\site-packages (from pandas) (2.0.2)\n",
            "Requirement already satisfied: six>=1.5 in c:\\users\\maure\\onedrive\\bureau\\ismin\\ia_manu_embarq\\tp_ia_embarquee\\myenv\\lib\\site-packages (from python-dateutil>=2.8.2->pandas) (1.17.0)\n",
            "Note: you may need to restart the kernel to use updated packages.\n"
          ]
        },
        {
          "name": "stderr",
          "output_type": "stream",
          "text": [
            "WARNING: You are using pip version 22.0.4; however, version 25.0.1 is available.\n",
            "You should consider upgrading via the 'c:\\Users\\maure\\OneDrive\\Bureau\\ISMIN\\IA_manu_embarq\\TP_IA_EMBARQUEE\\myenv\\Scripts\\python.exe -m pip install --upgrade pip' command.\n"
          ]
        },
        {
          "name": "stdout",
          "output_type": "stream",
          "text": [
            "Requirement already satisfied: matplotlib in c:\\users\\maure\\onedrive\\bureau\\ismin\\ia_manu_embarq\\tp_ia_embarquee\\myenv\\lib\\site-packages (3.9.4)\n",
            "Requirement already satisfied: fonttools>=4.22.0 in c:\\users\\maure\\onedrive\\bureau\\ismin\\ia_manu_embarq\\tp_ia_embarquee\\myenv\\lib\\site-packages (from matplotlib) (4.56.0)\n",
            "Requirement already satisfied: packaging>=20.0 in c:\\users\\maure\\onedrive\\bureau\\ismin\\ia_manu_embarq\\tp_ia_embarquee\\myenv\\lib\\site-packages (from matplotlib) (24.2)\n",
            "Requirement already satisfied: cycler>=0.10 in c:\\users\\maure\\onedrive\\bureau\\ismin\\ia_manu_embarq\\tp_ia_embarquee\\myenv\\lib\\site-packages (from matplotlib) (0.12.1)\n",
            "Requirement already satisfied: importlib-resources>=3.2.0 in c:\\users\\maure\\onedrive\\bureau\\ismin\\ia_manu_embarq\\tp_ia_embarquee\\myenv\\lib\\site-packages (from matplotlib) (6.5.2)\n",
            "Requirement already satisfied: python-dateutil>=2.7 in c:\\users\\maure\\onedrive\\bureau\\ismin\\ia_manu_embarq\\tp_ia_embarquee\\myenv\\lib\\site-packages (from matplotlib) (2.9.0.post0)\n",
            "Requirement already satisfied: pyparsing>=2.3.1 in c:\\users\\maure\\onedrive\\bureau\\ismin\\ia_manu_embarq\\tp_ia_embarquee\\myenv\\lib\\site-packages (from matplotlib) (3.2.1)\n",
            "Requirement already satisfied: kiwisolver>=1.3.1 in c:\\users\\maure\\onedrive\\bureau\\ismin\\ia_manu_embarq\\tp_ia_embarquee\\myenv\\lib\\site-packages (from matplotlib) (1.4.7)\n",
            "Requirement already satisfied: contourpy>=1.0.1 in c:\\users\\maure\\onedrive\\bureau\\ismin\\ia_manu_embarq\\tp_ia_embarquee\\myenv\\lib\\site-packages (from matplotlib) (1.3.0)\n",
            "Requirement already satisfied: pillow>=8 in c:\\users\\maure\\onedrive\\bureau\\ismin\\ia_manu_embarq\\tp_ia_embarquee\\myenv\\lib\\site-packages (from matplotlib) (11.1.0)\n",
            "Requirement already satisfied: numpy>=1.23 in c:\\users\\maure\\onedrive\\bureau\\ismin\\ia_manu_embarq\\tp_ia_embarquee\\myenv\\lib\\site-packages (from matplotlib) (2.0.2)\n",
            "Requirement already satisfied: zipp>=3.1.0 in c:\\users\\maure\\onedrive\\bureau\\ismin\\ia_manu_embarq\\tp_ia_embarquee\\myenv\\lib\\site-packages (from importlib-resources>=3.2.0->matplotlib) (3.21.0)\n",
            "Requirement already satisfied: six>=1.5 in c:\\users\\maure\\onedrive\\bureau\\ismin\\ia_manu_embarq\\tp_ia_embarquee\\myenv\\lib\\site-packages (from python-dateutil>=2.7->matplotlib) (1.17.0)\n",
            "Note: you may need to restart the kernel to use updated packages.\n"
          ]
        },
        {
          "name": "stderr",
          "output_type": "stream",
          "text": [
            "WARNING: You are using pip version 22.0.4; however, version 25.0.1 is available.\n",
            "You should consider upgrading via the 'c:\\Users\\maure\\OneDrive\\Bureau\\ISMIN\\IA_manu_embarq\\TP_IA_EMBARQUEE\\myenv\\Scripts\\python.exe -m pip install --upgrade pip' command.\n"
          ]
        },
        {
          "name": "stdout",
          "output_type": "stream",
          "text": [
            "Note: you may need to restart the kernel to use updated packages.Requirement already satisfied: tensorflow in c:\\users\\maure\\onedrive\\bureau\\ismin\\ia_manu_embarq\\tp_ia_embarquee\\myenv\\lib\\site-packages (2.19.0)\n",
            "Requirement already satisfied: google-pasta>=0.1.1 in c:\\users\\maure\\onedrive\\bureau\\ismin\\ia_manu_embarq\\tp_ia_embarquee\\myenv\\lib\\site-packages (from tensorflow) (0.2.0)\n",
            "Requirement already satisfied: typing-extensions>=3.6.6 in c:\\users\\maure\\onedrive\\bureau\\ismin\\ia_manu_embarq\\tp_ia_embarquee\\myenv\\lib\\site-packages (from tensorflow) (4.12.2)\n",
            "Requirement already satisfied: libclang>=13.0.0 in c:\\users\\maure\\onedrive\\bureau\\ismin\\ia_manu_embarq\\tp_ia_embarquee\\myenv\\lib\\site-packages (from tensorflow) (18.1.1)\n",
            "Requirement already satisfied: tensorflow-io-gcs-filesystem>=0.23.1 in c:\\users\\maure\\onedrive\\bureau\\ismin\\ia_manu_embarq\\tp_ia_embarquee\\myenv\\lib\\site-packages (from tensorflow) (0.31.0)\n",
            "Requirement already satisfied: gast!=0.5.0,!=0.5.1,!=0.5.2,>=0.2.1 in c:\\users\\maure\\onedrive\\bureau\\ismin\\ia_manu_embarq\\tp_ia_embarquee\\myenv\\lib\\site-packages (from tensorflow) (0.6.0)\n",
            "Requirement already satisfied: six>=1.12.0 in c:\\users\\maure\\onedrive\\bureau\\ismin\\ia_manu_embarq\\tp_ia_embarquee\\myenv\\lib\\site-packages (from tensorflow) (1.17.0)\n",
            "Requirement already satisfied: absl-py>=1.0.0 in c:\\users\\maure\\onedrive\\bureau\\ismin\\ia_manu_embarq\\tp_ia_embarquee\\myenv\\lib\\site-packages (from tensorflow) (2.1.0)\n",
            "Requirement already satisfied: keras>=3.5.0 in c:\\users\\maure\\onedrive\\bureau\\ismin\\ia_manu_embarq\\tp_ia_embarquee\\myenv\\lib\\site-packages (from tensorflow) (3.9.0)\n",
            "Requirement already satisfied: tensorboard~=2.19.0 in c:\\users\\maure\\onedrive\\bureau\\ismin\\ia_manu_embarq\\tp_ia_embarquee\\myenv\\lib\\site-packages (from tensorflow) (2.19.0)\n",
            "Requirement already satisfied: h5py>=3.11.0 in c:\\users\\maure\\onedrive\\bureau\\ismin\\ia_manu_embarq\\tp_ia_embarquee\\myenv\\lib\\site-packages (from tensorflow) (3.13.0)\n",
            "Requirement already satisfied: requests<3,>=2.21.0 in c:\\users\\maure\\onedrive\\bureau\\ismin\\ia_manu_embarq\\tp_ia_embarquee\\myenv\\lib\\site-packages (from tensorflow) (2.32.3)\n",
            "Requirement already satisfied: flatbuffers>=24.3.25 in c:\\users\\maure\\onedrive\\bureau\\ismin\\ia_manu_embarq\\tp_ia_embarquee\\myenv\\lib\\site-packages (from tensorflow) (25.2.10)\n",
            "Requirement already satisfied: ml-dtypes<1.0.0,>=0.5.1 in c:\\users\\maure\\onedrive\\bureau\\ismin\\ia_manu_embarq\\tp_ia_embarquee\\myenv\\lib\\site-packages (from tensorflow) (0.5.1)\n",
            "Requirement already satisfied: grpcio<2.0,>=1.24.3 in c:\\users\\maure\\onedrive\\bureau\\ismin\\ia_manu_embarq\\tp_ia_embarquee\\myenv\\lib\\site-packages (from tensorflow) (1.71.0)\n",
            "Requirement already satisfied: opt-einsum>=2.3.2 in c:\\users\\maure\\onedrive\\bureau\\ismin\\ia_manu_embarq\\tp_ia_embarquee\\myenv\\lib\\site-packages (from tensorflow) (3.4.0)\n",
            "Requirement already satisfied: astunparse>=1.6.0 in c:\\users\\maure\\onedrive\\bureau\\ismin\\ia_manu_embarq\\tp_ia_embarquee\\myenv\\lib\\site-packages (from tensorflow) (1.6.3)\n",
            "Requirement already satisfied: protobuf!=4.21.0,!=4.21.1,!=4.21.2,!=4.21.3,!=4.21.4,!=4.21.5,<6.0.0dev,>=3.20.3 in c:\\users\\maure\\onedrive\\bureau\\ismin\\ia_manu_embarq\\tp_ia_embarquee\\myenv\\lib\\site-packages (from tensorflow) (5.29.3)\n",
            "Requirement already satisfied: packaging in c:\\users\\maure\\onedrive\\bureau\\ismin\\ia_manu_embarq\\tp_ia_embarquee\\myenv\\lib\\site-packages (from tensorflow) (24.2)\n",
            "Requirement already satisfied: numpy<2.2.0,>=1.26.0 in c:\\users\\maure\\onedrive\\bureau\\ismin\\ia_manu_embarq\\tp_ia_embarquee\\myenv\\lib\\site-packages (from tensorflow) (2.0.2)\n",
            "Requirement already satisfied: termcolor>=1.1.0 in c:\\users\\maure\\onedrive\\bureau\\ismin\\ia_manu_embarq\\tp_ia_embarquee\\myenv\\lib\\site-packages (from tensorflow) (2.5.0)\n",
            "Requirement already satisfied: wrapt>=1.11.0 in c:\\users\\maure\\onedrive\\bureau\\ismin\\ia_manu_embarq\\tp_ia_embarquee\\myenv\\lib\\site-packages (from tensorflow) (1.17.2)\n",
            "Requirement already satisfied: setuptools in c:\\users\\maure\\onedrive\\bureau\\ismin\\ia_manu_embarq\\tp_ia_embarquee\\myenv\\lib\\site-packages (from tensorflow) (58.1.0)\n",
            "Requirement already satisfied: wheel<1.0,>=0.23.0 in c:\\users\\maure\\onedrive\\bureau\\ismin\\ia_manu_embarq\\tp_ia_embarquee\\myenv\\lib\\site-packages (from astunparse>=1.6.0->tensorflow) (0.45.1)\n",
            "Requirement already satisfied: optree in c:\\users\\maure\\onedrive\\bureau\\ismin\\ia_manu_embarq\\tp_ia_embarquee\\myenv\\lib\\site-packages (from keras>=3.5.0->tensorflow) (0.14.1)\n",
            "Requirement already satisfied: namex in c:\\users\\maure\\onedrive\\bureau\\ismin\\ia_manu_embarq\\tp_ia_embarquee\\myenv\\lib\\site-packages (from keras>=3.5.0->tensorflow) (0.0.8)\n",
            "Requirement already satisfied: rich in c:\\users\\maure\\onedrive\\bureau\\ismin\\ia_manu_embarq\\tp_ia_embarquee\\myenv\\lib\\site-packages (from keras>=3.5.0->tensorflow) (13.9.4)\n",
            "Requirement already satisfied: idna<4,>=2.5 in c:\\users\\maure\\onedrive\\bureau\\ismin\\ia_manu_embarq\\tp_ia_embarquee\\myenv\\lib\\site-packages (from requests<3,>=2.21.0->tensorflow) (3.10)\n",
            "Requirement already satisfied: certifi>=2017.4.17 in c:\\users\\maure\\onedrive\\bureau\\ismin\\ia_manu_embarq\\tp_ia_embarquee\\myenv\\lib\\site-packages (from requests<3,>=2.21.0->tensorflow) (2025.1.31)\n",
            "Requirement already satisfied: charset-normalizer<4,>=2 in c:\\users\\maure\\onedrive\\bureau\\ismin\\ia_manu_embarq\\tp_ia_embarquee\\myenv\\lib\\site-packages (from requests<3,>=2.21.0->tensorflow) (3.4.1)\n",
            "Requirement already satisfied: urllib3<3,>=1.21.1 in c:\\users\\maure\\onedrive\\bureau\\ismin\\ia_manu_embarq\\tp_ia_embarquee\\myenv\\lib\\site-packages (from requests<3,>=2.21.0->tensorflow) (2.3.0)\n",
            "Requirement already satisfied: tensorboard-data-server<0.8.0,>=0.7.0 in c:\\users\\maure\\onedrive\\bureau\\ismin\\ia_manu_embarq\\tp_ia_embarquee\\myenv\\lib\\site-packages (from tensorboard~=2.19.0->tensorflow) (0.7.2)\n",
            "Requirement already satisfied: markdown>=2.6.8 in c:\\users\\maure\\onedrive\\bureau\\ismin\\ia_manu_embarq\\tp_ia_embarquee\\myenv\\lib\\site-packages (from tensorboard~=2.19.0->tensorflow) (3.7)\n",
            "Requirement already satisfied: werkzeug>=1.0.1 in c:\\users\\maure\\onedrive\\bureau\\ismin\\ia_manu_embarq\\tp_ia_embarquee\\myenv\\lib\\site-packages (from tensorboard~=2.19.0->tensorflow) (3.1.3)\n",
            "Requirement already satisfied: importlib-metadata>=4.4 in c:\\users\\maure\\onedrive\\bureau\\ismin\\ia_manu_embarq\\tp_ia_embarquee\\myenv\\lib\\site-packages (from markdown>=2.6.8->tensorboard~=2.19.0->tensorflow) (8.6.1)\n",
            "Requirement already satisfied: MarkupSafe>=2.1.1 in c:\\users\\maure\\onedrive\\bureau\\ismin\\ia_manu_embarq\\tp_ia_embarquee\\myenv\\lib\\site-packages (from werkzeug>=1.0.1->tensorboard~=2.19.0->tensorflow) (3.0.2)\n",
            "Requirement already satisfied: pygments<3.0.0,>=2.13.0 in c:\\users\\maure\\onedrive\\bureau\\ismin\\ia_manu_embarq\\tp_ia_embarquee\\myenv\\lib\\site-packages (from rich->keras>=3.5.0->tensorflow) (2.19.1)\n",
            "Requirement already satisfied: markdown-it-py>=2.2.0 in c:\\users\\maure\\onedrive\\bureau\\ismin\\ia_manu_embarq\\tp_ia_embarquee\\myenv\\lib\\site-packages (from rich->keras>=3.5.0->tensorflow) (3.0.0)\n",
            "Requirement already satisfied: zipp>=3.20 in c:\\users\\maure\\onedrive\\bureau\\ismin\\ia_manu_embarq\\tp_ia_embarquee\\myenv\\lib\\site-packages (from importlib-metadata>=4.4->markdown>=2.6.8->tensorboard~=2.19.0->tensorflow) (3.21.0)\n",
            "Requirement already satisfied: mdurl~=0.1 in c:\\users\\maure\\onedrive\\bureau\\ismin\\ia_manu_embarq\\tp_ia_embarquee\\myenv\\lib\\site-packages (from markdown-it-py>=2.2.0->rich->keras>=3.5.0->tensorflow) (0.1.2)\n",
            "\n"
          ]
        },
        {
          "name": "stderr",
          "output_type": "stream",
          "text": [
            "WARNING: You are using pip version 22.0.4; however, version 25.0.1 is available.\n",
            "You should consider upgrading via the 'c:\\Users\\maure\\OneDrive\\Bureau\\ISMIN\\IA_manu_embarq\\TP_IA_EMBARQUEE\\myenv\\Scripts\\python.exe -m pip install --upgrade pip' command.\n"
          ]
        }
      ],
      "source": [
        "%pip install pandas\n",
        "%pip install matplotlib\n",
        "%pip install tensorflow"
      ]
    },
    {
      "cell_type": "code",
      "execution_count": 5,
      "metadata": {
        "id": "UQp7FGSb5Vlv"
      },
      "outputs": [
        {
          "name": "stdout",
          "output_type": "stream",
          "text": [
            "2.19.0\n"
          ]
        }
      ],
      "source": [
        "import pandas as pd\n",
        "import matplotlib.pyplot as plt\n",
        "import tensorflow as tf\n",
        "print(tf.__version__)"
      ]
    },
    {
      "cell_type": "markdown",
      "metadata": {
        "id": "eFRcS74MDeSf"
      },
      "source": [
        "**QUESTION:** Load dataset and display some lines of the csv file."
      ]
    },
    {
      "cell_type": "code",
      "execution_count": 6,
      "metadata": {
        "id": "9l044FZ_5-fN"
      },
      "outputs": [
        {
          "name": "stdout",
          "output_type": "stream",
          "text": [
            "   UDI Product ID Type  Air temperature [K]  Process temperature [K]  \\\n",
            "0    1     M14860    M                298.1                    308.6   \n",
            "1    2     L47181    L                298.2                    308.7   \n",
            "2    3     L47182    L                298.1                    308.5   \n",
            "3    4     L47183    L                298.2                    308.6   \n",
            "4    5     L47184    L                298.2                    308.7   \n",
            "\n",
            "   Rotational speed [rpm]  Torque [Nm]  Tool wear [min]  Machine failure  TWF  \\\n",
            "0                    1551         42.8                0                0    0   \n",
            "1                    1408         46.3                3                0    0   \n",
            "2                    1498         49.4                5                0    0   \n",
            "3                    1433         39.5                7                0    0   \n",
            "4                    1408         40.0                9                0    0   \n",
            "\n",
            "   HDF  PWF  OSF  RNF  \n",
            "0    0    0    0    0  \n",
            "1    0    0    0    0  \n",
            "2    0    0    0    0  \n",
            "3    0    0    0    0  \n",
            "4    0    0    0    0  \n"
          ]
        }
      ],
      "source": [
        "# Load the dataset\n",
        "df = pd.read_csv('ai4i2020.csv')\n",
        "\n",
        "# Display the first few lines of the dataset\n",
        "print(df.head())"
      ]
    },
    {
      "cell_type": "markdown",
      "metadata": {
        "id": "joQOXoqaD8JA"
      },
      "source": [
        "**QUESTION:** Display the distribution of machine failures and non-failures with a bar graph."
      ]
    },
    {
      "cell_type": "code",
      "execution_count": 7,
      "metadata": {
        "id": "r3Q1l9JoMs7m"
      },
      "outputs": [
        {
          "data": {
            "image/png": "[encoded data removed]",
            "text/plain": [
              "<Figure size 640x480 with 1 Axes>"
            ]
          },
          "metadata": {},
          "output_type": "display_data"
        }
      ],
      "source": [
        "# Count the occurrences of machine failures and non-failures\n",
        "failure_counts = df['Machine failure'].value_counts()\n",
        "\n",
        "# Plot the bar graph\n",
        "failure_counts.plot(kind='bar', color=['blue', 'orange'])\n",
        "plt.title('Distribution of Machine Failures and Non-Failures')\n",
        "plt.xlabel('Machine Failure')\n",
        "plt.ylabel('COUNT')\n",
        "plt.xticks(ticks=[0, 1], labels=['Non-Failure', 'Failure'], rotation=0)\n",
        "plt.show()"
      ]
    },
    {
      "cell_type": "markdown",
      "metadata": {
        "id": "vCNIqXVyEkrR"
      },
      "source": [
        "**ANALYSIS QUESTION:** What do you observe?"
      ]
    },
    {
      "cell_type": "markdown",
      "metadata": {
        "id": "6BMGtlIWE-C0"
      },
      "source": [
        "\"Write here your response\""
      ]
    },
    {
      "cell_type": "markdown",
      "metadata": {
        "id": "huU5I4x8SzlN"
      },
      "source": [
        "**ANALYSIS QUESTION:** What will be the consequence of this phenomenon on the model's learning?"
      ]
    },
    {
      "cell_type": "markdown",
      "metadata": {
        "id": "JHmYROP0TLIS"
      },
      "source": [
        "\"Write here your response\""
      ]
    },
    {
      "cell_type": "markdown",
      "metadata": {
        "id": "0s-mzCCsSasl"
      },
      "source": [
        "**QUESTION:** Create a bar chart showing the distribution of different failure types (TWF, HDF, PWF, OSF, RNF). Display the exact values above each bar in the chart."
      ]
    },
    {
      "cell_type": "code",
      "execution_count": 8,
      "metadata": {
        "id": "nQyJCfamMdJN"
      },
      "outputs": [
        {
          "data": {
            "image/png": "[encoded data removed]",
            "text/plain": [
              "<Figure size 640x480 with 1 Axes>"
            ]
          },
          "metadata": {},
          "output_type": "display_data"
        }
      ],
      "source": [
        "# Count the occurrences of each failure type\n",
        "failure_types = df[['TWF', 'HDF', 'PWF', 'OSF', 'RNF']].sum()\n",
        "\n",
        "# Plot the bar chart\n",
        "ax = failure_types.plot(kind='bar', color=['blue', 'orange', 'green', 'red', 'purple'])\n",
        "plt.title('Distribution of Different Failure Types')\n",
        "plt.xlabel('Failure Type')\n",
        "plt.ylabel('Count')\n",
        "\n",
        "# Display the exact values above each bar\n",
        "for i in ax.containers:\n",
        "    ax.bar_label(i)\n",
        "\n",
        "plt.show()"
      ]
    },
    {
      "cell_type": "markdown",
      "metadata": {
        "id": "NXyHa73yU8g_"
      },
      "source": [
        "**ANALYSIS QUESTION:** What do you observe?"
      ]
    },
    {
      "cell_type": "markdown",
      "metadata": {
        "id": "WRDFE_dsVBBU"
      },
      "source": [
        "\"Write here your response\""
      ]
    },
    {
      "cell_type": "code",
      "execution_count": null,
      "metadata": {},
      "outputs": [],
      "source": []
    },
    {
      "cell_type": "markdown",
      "metadata": {
        "id": "cvaO2bEIMxLd"
      },
      "source": [
        "**QUESTION:** Create a bar chart showing the distribution of failure types (TWF, HDF, PWF, OSF, RNF) among machines that experienced a failure (Machine failure == 1). Additionally, add a \"No Specific Failure\" category to count cases where a machine failed but no specific failure type was recorded. Display the exact values above each bar in the chart.\""
      ]
    },
    {
      "cell_type": "code",
      "execution_count": 9,
      "metadata": {
        "id": "e97htGyyMsle"
      },
      "outputs": [
        {
          "data": {
            "image/png": "[encoded data removed]",
            "text/plain": [
              "<Figure size 640x480 with 1 Axes>"
            ]
          },
          "metadata": {},
          "output_type": "display_data"
        }
      ],
      "source": [
        "# Filter the dataframe for machines that experienced a failure\n",
        "failure_df = df[df['Machine failure'] == 1]\n",
        "\n",
        "# Count the occurrences of each failure type\n",
        "failure_types = ['TWF', 'HDF', 'PWF', 'OSF', 'RNF']\n",
        "failure_counts = failure_df[failure_types].sum()\n",
        "\n",
        "# Add a \"No Specific Failure\" category\n",
        "no_specific_failure_count = (failure_df[failure_types].sum(axis=1) == 0).sum()\n",
        "failure_counts['No Specific Failure'] = no_specific_failure_count\n",
        "\n",
        "# Plot the bar graph\n",
        "ax = failure_counts.plot(kind='bar', color=['blue', 'orange', 'green', 'red', 'purple', 'gray'])\n",
        "plt.title('Distribution of Failure Types Among Machines That Experienced a Failure')\n",
        "plt.xlabel('Failure Type')\n",
        "plt.ylabel('COUNT')\n",
        "plt.xticks(rotation=45)\n",
        "\n",
        "# Display the exact values above each bar\n",
        "for p in ax.patches:\n",
        "    ax.annotate(str(p.get_height()), (p.get_x() * 1.005, p.get_height() * 1.005))\n",
        "\n",
        "plt.show()"
      ]
    },
    {
      "cell_type": "markdown",
      "metadata": {
        "id": "U6_3vAQCOUGb"
      },
      "source": [
        "**ANALYSIS QUESTION:** What do you obsrve comapred to the previous question ? What can you conclude?"
      ]
    },
    {
      "cell_type": "markdown",
      "metadata": {
        "id": "i-6t7nqlOjMo"
      },
      "source": []
    },
    {
      "cell_type": "markdown",
      "metadata": {
        "id": "muXeS0eVVW6H"
      },
      "source": [
        "**QUESTION:** Display the names of the different columns in the dataset with their respective data types."
      ]
    },
    {
      "cell_type": "code",
      "execution_count": null,
      "metadata": {
        "id": "pa9Tptu7nPMp"
      },
      "outputs": [],
      "source": []
    },
    {
      "cell_type": "markdown",
      "metadata": {
        "id": "cezua1bMVTCM"
      },
      "source": [
        "**ANALYSIS QUESTION:** To train the model, what will be the inputs and outputs (What are the names of the columns that you will use?)? Justify your response.\n",
        "Remember, you want to predict if the machine will fail, and if so, what kind of failure. You need to yse previous results to jsurtify your response."
      ]
    },
    {
      "cell_type": "markdown",
      "metadata": {
        "id": "0gy8oDgxbjol"
      },
      "source": [
        "\"Write your response here\""
      ]
    },
    {
      "cell_type": "markdown",
      "metadata": {
        "id": "CFXLkBzTiafx"
      },
      "source": [
        "## **2- Train model Without balancing the dataset**\n",
        "\n",
        "---\n",
        "\n"
      ]
    },
    {
      "cell_type": "markdown",
      "metadata": {
        "id": "plBeUOCKvVNU"
      },
      "source": [
        "In this section, you must build and train a model without rebalancing the dataset."
      ]
    },
    {
      "cell_type": "markdown",
      "metadata": {
        "id": "yj7CMqdVbxg2"
      },
      "source": [
        "**QUESTION:** Create X_train, Y_train, X_test, and Y_test. How many elements are present in X_train, Y_train, X_test, and Y_test? (Print the values)"
      ]
    },
    {
      "cell_type": "code",
      "execution_count": 10,
      "metadata": {
        "id": "Wdght-L8wQQQ"
      },
      "outputs": [
        {
          "ename": "ModuleNotFoundError",
          "evalue": "No module named 'sklearn'",
          "output_type": "error",
          "traceback": [
            "\u001b[1;31m---------------------------------------------------------------------------\u001b[0m",
            "\u001b[1;31mModuleNotFoundError\u001b[0m                       Traceback (most recent call last)",
            "Cell \u001b[1;32mIn[10], line 1\u001b[0m\n\u001b[1;32m----> 1\u001b[0m \u001b[38;5;28;01mfrom\u001b[39;00m\u001b[38;5;250m \u001b[39m\u001b[38;5;21;01msklearn\u001b[39;00m\u001b[38;5;21;01m.\u001b[39;00m\u001b[38;5;21;01mmodel_selection\u001b[39;00m\u001b[38;5;250m \u001b[39m\u001b[38;5;28;01mimport\u001b[39;00m train_test_split\n\u001b[0;32m      3\u001b[0m \u001b[38;5;66;03m# Assuming 'df' is your DataFrame and 'Machine failure' is the target variable\u001b[39;00m\n\u001b[0;32m      4\u001b[0m X \u001b[38;5;241m=\u001b[39m df\u001b[38;5;241m.\u001b[39mdrop(columns\u001b[38;5;241m=\u001b[39m[\u001b[38;5;124m'\u001b[39m\u001b[38;5;124mMachine failure\u001b[39m\u001b[38;5;124m'\u001b[39m, \u001b[38;5;124m'\u001b[39m\u001b[38;5;124mTWF\u001b[39m\u001b[38;5;124m'\u001b[39m, \u001b[38;5;124m'\u001b[39m\u001b[38;5;124mHDF\u001b[39m\u001b[38;5;124m'\u001b[39m, \u001b[38;5;124m'\u001b[39m\u001b[38;5;124mPWF\u001b[39m\u001b[38;5;124m'\u001b[39m, \u001b[38;5;124m'\u001b[39m\u001b[38;5;124mOSF\u001b[39m\u001b[38;5;124m'\u001b[39m, \u001b[38;5;124m'\u001b[39m\u001b[38;5;124mRNF\u001b[39m\u001b[38;5;124m'\u001b[39m])\n",
            "\u001b[1;31mModuleNotFoundError\u001b[0m: No module named 'sklearn'"
          ]
        }
      ],
      "source": [
        "from sklearn.model_selection import train_test_split\n",
        "\n",
        "# Assuming 'df' is your DataFrame and 'Machine failure' is the target variable\n",
        "X = df.drop(columns=['Machine failure', 'TWF', 'HDF', 'PWF', 'OSF', 'RNF'])\n",
        "Y = df[['Machine failure', 'TWF', 'HDF', 'PWF', 'OSF', 'RNF']]\n",
        "\n",
        "# Split the data into training and testing sets\n",
        "X_train, X_test, Y_train, Y_test = train_test_split(X, Y, test_size=0.2, random_state=42)\n",
        "\n",
        "# Print the number of elements in each set\n",
        "print(f'Number of elements in X_train: {len(X_train)}')\n",
        "print(f'Number of elements in Y_train: {len(Y_train)}')\n",
        "print(f'Number of elements in X_test: {len(X_test)}')\n",
        "print(f'Number of elements in Y_test: {len(Y_test)}')"
      ]
    },
    {
      "cell_type": "markdown",
      "metadata": {
        "id": "eqBuZsqKdQ7u"
      },
      "source": [
        "**QUESTION** Code below the model architecture"
      ]
    },
    {
      "cell_type": "code",
      "execution_count": null,
      "metadata": {
        "id": "F35j0VRDdNLc"
      },
      "outputs": [],
      "source": [
        "from sklearn.model_selection import train_test_split\n",
        "\n",
        "# Assuming 'df' is your DataFrame and 'Machine failure' is the target variable\n",
        "X = df.drop(columns=['Machine failure', 'TWF', 'HDF', 'PWF', 'OSF', 'RNF'])\n",
        "Y = df[['Machine failure', 'TWF', 'HDF', 'PWF', 'OSF', 'RNF']]\n",
        "\n",
        "# Split the data into training and testing sets\n",
        "X_train, X_test, Y_train, Y_test = train_test_split(X, Y, test_size=0.2, random_state=42)\n",
        "\n",
        "# Print the number of elements in each set\n",
        "print(f'Number of elements in X_train: {len(X_train)}')\n",
        "print(f'Number of elements in Y_train: {len(Y_train)}')\n",
        "print(f'Number of elements in X_test: {len(X_test)}')\n",
        "print(f'Number of elements in Y_test: {len(Y_test)}')"
      ]
    },
    {
      "cell_type": "markdown",
      "metadata": {
        "id": "dIONoP2Jdg8Q"
      },
      "source": [
        "**QUESTION** Code below the algorithms allowing to train model\n",
        "\n",
        "**WARNING!** You need to plot the training and test accuracy and loss to check if our model is overfitting"
      ]
    },
    {
      "cell_type": "code",
      "execution_count": null,
      "metadata": {
        "id": "jJ2bYxZydhW2"
      },
      "outputs": [],
      "source": [
        "from tf.keras.models import Sequential\n",
        "from tf.keras.layers import Dense\n",
        "from tf.keras.optimizers import Adam\n",
        "from sklearn.preprocessing import StandardScaler\n",
        "\n",
        "# Standardize the data\n",
        "scaler = StandardScaler()\n",
        "X_train_scaled = scaler.fit_transform(X_train)\n",
        "X_test_scaled = scaler.transform(X_test)\n",
        "\n",
        "# Build the neural network model\n",
        "model = Sequential([\n",
        "    Dense(64, activation='relu', input_shape=(X_train_scaled.shape[1],)),\n",
        "    Dense(32, activation='relu'),\n",
        "    Dense(1, activation='sigmoid')\n",
        "])\n",
        "\n",
        "# Compile the model\n",
        "model.compile(optimizer=Adam(learning_rate=0.001), loss='binary_crossentropy', metrics=['accuracy'])\n",
        "\n",
        "# Train the model\n",
        "history = model.fit(X_train_scaled, Y_train['Machine failure'], epochs=50, validation_data=(X_test_scaled, Y_test['Machine failure']))\n",
        "\n",
        "# Plot training & validation accuracy values\n",
        "plt.figure(figsize=(12, 6))\n",
        "plt.subplot(1, 2, 1)\n",
        "plt.plot(history.history['accuracy'])\n",
        "plt.plot(history.history['val_accuracy'])\n",
        "plt.title('Model accuracy')\n",
        "plt.ylabel('Accuracy')\n",
        "plt.xlabel('Epoch')\n",
        "plt.legend(['Train', 'Test'], loc='upper left')\n",
        "\n",
        "# Plot training & validation loss values\n",
        "plt.subplot(1, 2, 2)\n",
        "plt.plot(history.history['loss'])\n",
        "plt.plot(history.history['val_loss'])\n",
        "plt.title('Model loss')\n",
        "plt.ylabel('Loss')\n",
        "plt.xlabel('Epoch')\n",
        "plt.legend(['Train', 'Test'], loc='upper left')\n",
        "\n",
        "plt.show()"
      ]
    },
    {
      "cell_type": "markdown",
      "metadata": {
        "id": "yvmyHnqYpbf-"
      },
      "source": [
        "**QUESTION** Plot the confusion matrix and the classification report"
      ]
    },
    {
      "cell_type": "markdown",
      "metadata": {
        "id": "FUXSeJ1ZpsSP"
      },
      "source": [
        "**Tips:**\n",
        "\n",
        "*   classification report link\n",
        "\n",
        "> https://scikit-learn.org/stable/modules/generated/sklearn.metrics.classification_report.html\n",
        "\n",
        "*   Matrix confusion\n",
        "\n",
        "> https://scikit-learn.org/stable/modules/generated/sklearn.metrics.ConfusionMatrixDisplay.html\n",
        "\n",
        "\n",
        "\n"
      ]
    },
    {
      "cell_type": "code",
      "execution_count": null,
      "metadata": {
        "id": "m4q5wvHNnAdu"
      },
      "outputs": [],
      "source": []
    },
    {
      "cell_type": "markdown",
      "metadata": {
        "id": "ImGsmryGkKhj"
      },
      "source": [
        "**ANALYSIS QUESTION** What do you observe? What can you conclude?"
      ]
    },
    {
      "cell_type": "markdown",
      "metadata": {
        "id": "y1f5OneQknZy"
      },
      "source": [
        "\"Write your response here\""
      ]
    },
    {
      "cell_type": "markdown",
      "metadata": {
        "id": "EYUyUAN5ji0x"
      },
      "source": [
        "## **3- Train model With balancing the dataset**\n",
        "\n",
        "---"
      ]
    },
    {
      "cell_type": "markdown",
      "metadata": {
        "id": "EQWut50JhKdD"
      },
      "source": [
        " Methods for rebalancing a dataset:\n",
        "\n",
        "\n",
        "*   Use oversampling techniques (e.g., SMOTE) to generate synthetic data for minority classes\n",
        "\n",
        "\n",
        "> https://imbalanced-learn.org/stable/references/generated/imblearn.over_sampling.SMOTE.html\n",
        "\n",
        "\n",
        "\n",
        "*   Apply undersampling techniques (e.g., random undersampling, Tomek Links, Edited Nearest Neighbors) to reduce the majority class size\n",
        "\n",
        "\n",
        "\n",
        "> https://imbalanced-learn.org/stable/references/generated/imblearn.under_sampling.RandomUnderSampler.html\n",
        "\n",
        "\n",
        "\n",
        "*   Use class weighting during model training to penalize errors on minority classes\n",
        "\n",
        "\n",
        "\n",
        "> https://www.tensorflow.org/tutorials/structured_data/imbalanced_data?hl=fr\n"
      ]
    },
    {
      "cell_type": "markdown",
      "metadata": {
        "id": "--pWJzaUnXdY"
      },
      "source": [
        "**QUESTION:** Create X_train, Y_train, X_test, and Y_test. How many elements are present in X_train, Y_train, X_test, and Y_test? (Print the values)"
      ]
    },
    {
      "cell_type": "code",
      "execution_count": null,
      "metadata": {
        "id": "aLW74cwbdr1U"
      },
      "outputs": [],
      "source": []
    },
    {
      "cell_type": "markdown",
      "metadata": {
        "id": "-YcZXIadnbcm"
      },
      "source": [
        "**ANALYSIS QUESTION:** Explain the choices you made to balance the dataset."
      ]
    },
    {
      "cell_type": "markdown",
      "metadata": {
        "id": "Rku3pnWxnxhI"
      },
      "source": [
        "\"Write your response here\""
      ]
    },
    {
      "cell_type": "markdown",
      "metadata": {
        "id": "BVryPCQFn4Dd"
      },
      "source": [
        "**QUESTION:** Code below the model architecture\n"
      ]
    },
    {
      "cell_type": "markdown",
      "metadata": {
        "id": "Q5BGfI7TpVDD"
      },
      "source": [
        "**TIP:** It could be interesting to keep it the same as before"
      ]
    },
    {
      "cell_type": "code",
      "execution_count": null,
      "metadata": {
        "id": "S0UbMHN6OC51"
      },
      "outputs": [],
      "source": []
    },
    {
      "cell_type": "markdown",
      "metadata": {
        "id": "wBZyS7DdofFq"
      },
      "source": [
        "**QUESTION** Code below the algorithms allowing to train model\n"
      ]
    },
    {
      "cell_type": "code",
      "execution_count": null,
      "metadata": {
        "id": "my6Ck5JbMDOG"
      },
      "outputs": [],
      "source": []
    },
    {
      "cell_type": "markdown",
      "metadata": {
        "id": "77ftkfv5oqp0"
      },
      "source": [
        "**QUESTION** Plot the confusion matrix and the classification report"
      ]
    },
    {
      "cell_type": "code",
      "execution_count": null,
      "metadata": {
        "id": "kRmkOI_co5d9"
      },
      "outputs": [],
      "source": []
    },
    {
      "cell_type": "markdown",
      "metadata": {
        "id": "Zn5BBAI3pHXf"
      },
      "source": [
        "**ANALYSIS QUESTION** What do you observe? What can you conclude?"
      ]
    },
    {
      "cell_type": "markdown",
      "metadata": {
        "id": "SIf8rfU9pIGd"
      },
      "source": [
        "\"Write your response here\""
      ]
    }
  ],
  "metadata": {
    "colab": {
      "provenance": []
    },
    "kernelspec": {
      "display_name": "myenv",
      "language": "python",
      "name": "python3"
    },
    "language_info": {
      "codemirror_mode": {
        "name": "ipython",
        "version": 3
      },
      "file_extension": ".py",
      "mimetype": "text/x-python",
      "name": "python",
      "nbconvert_exporter": "python",
      "pygments_lexer": "ipython3",
      "version": "3.9.13"
    }
  },
  "nbformat": 4,
  "nbformat_minor": 0
}
